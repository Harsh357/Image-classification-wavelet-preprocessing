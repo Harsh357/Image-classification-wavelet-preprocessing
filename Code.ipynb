{
 "cells": [
  {
   "cell_type": "code",
   "execution_count": 2,
   "metadata": {},
   "outputs": [
    {
     "ename": "ImportError",
     "evalue": "No module named cv2",
     "output_type": "error",
     "traceback": [
      "\u001b[1;31m---------------------------------------------------------------------------\u001b[0m",
      "\u001b[1;31mImportError\u001b[0m                               Traceback (most recent call last)",
      "\u001b[1;32m<ipython-input-2-43601268e244>\u001b[0m in \u001b[0;36m<module>\u001b[1;34m()\u001b[0m\n\u001b[0;32m      2\u001b[0m \u001b[1;32mimport\u001b[0m \u001b[0mos\u001b[0m\u001b[1;33m\u001b[0m\u001b[0m\n\u001b[0;32m      3\u001b[0m \u001b[1;32mimport\u001b[0m \u001b[0mnumpy\u001b[0m \u001b[1;32mas\u001b[0m \u001b[0mnp\u001b[0m\u001b[1;33m\u001b[0m\u001b[0m\n\u001b[1;32m----> 4\u001b[1;33m \u001b[1;32mimport\u001b[0m \u001b[0mcv2\u001b[0m\u001b[1;33m\u001b[0m\u001b[0m\n\u001b[0m\u001b[0;32m      5\u001b[0m \u001b[1;32mimport\u001b[0m \u001b[0mpywt\u001b[0m \u001b[1;32mas\u001b[0m \u001b[0mpy\u001b[0m\u001b[1;33m\u001b[0m\u001b[0m\n\u001b[0;32m      6\u001b[0m \u001b[1;32mimport\u001b[0m \u001b[0mnumpy\u001b[0m \u001b[1;32mas\u001b[0m \u001b[0mnp\u001b[0m\u001b[1;33m\u001b[0m\u001b[0m\n",
      "\u001b[1;31mImportError\u001b[0m: No module named cv2"
     ]
    }
   ],
   "source": [
    "from __future__ import print_function\n",
    "import os\n",
    "import numpy as np\n",
    "import cv2\n",
    "import pywt as py\n",
    "import numpy as np\n",
    "import matplotlib.pyplot as plt\n",
    "%matplotlib inline\n",
    "import keras\n",
    "from keras.models import Sequential\n",
    "from keras.layers import Dense, Conv2D, MaxPooling2D, Dropout, Flatten, AveragePooling2D, GlobalMaxPooling2D\n",
    "#from keras.layers import Dense, Conv3D, MaxPooling3D, Dropout, Flatten, AveragePooling3D\n",
    "from keras.layers.normalization import BatchNormalization\n",
    "from keras.layers.advanced_activations import LeakyReLU\n",
    "from keras.utils import to_categorical"
   ]
  },
  {
   "cell_type": "code",
   "execution_count": null,
   "metadata": {},
   "outputs": [],
   "source": [
    "ca = ''\n",
    "co = ''\n",
    "#path to database ca contains path to case data and co contains path to control data\n",
    "NUM_CLASSES = 2 # The number of classes\n",
    "IMG_SIZE = 1024 # The length of one side of images\n",
    "COLOR_CHANNELS = 3 # RGB\n",
    "input_shape = (IMG_SIZE, IMG_SIZE)"
   ]
  },
  {
   "cell_type": "code",
   "execution_count": null,
   "metadata": {},
   "outputs": [],
   "source": [
    "train_image = []\n",
    "train_label = []\n",
    "train_img_dirs = [case, control]\n",
    "for i, d in enumerate(train_img_dirs):\n",
    "    files = os.listdir(d)\n",
    "    for f in files:\n",
    "        img = cv2.imread(d + '/'+ f)\n",
    "        coeffs1 = py.dwt2(img, 'db3')#Here we are decomposing using 3-D wavelet. db3 wavelet is used here but one can change\n",
    "        #as per requirment.\n",
    "        LL, (LH, HL, HH) = coeffs1#storing co-efficients of wavelets\n",
    "        img = HL[:,:,3]# Extracting only the component of wavelet which best extracts the region of interest. It can\n",
    "        #be tested for other also like img = HL[:,:,1] or img = LH[:,:,3]. Best way is to see these using imshow.\n",
    "        img = cv2.resize(img, (IMG_SIZE, IMG_SIZE))#resizing the extracted image.\n",
    "        img = img.flatten().astype(np.float32)/255.0\n",
    "        train_image.append(img)\n",
    "        tmp = np.zeros(NUM_CLASSES)\n",
    "        tmp[i] = 1\n",
    "        train_label.append(tmp)"
   ]
  },
  {
   "cell_type": "code",
   "execution_count": null,
   "metadata": {},
   "outputs": [],
   "source": [
    "train_image = np.asarray(train_image)\n",
    "train_label = np.asarray(train_label)\n",
    "train_image = train_image.reshape(-1,IMG_SIZE, IMG_SIZE,1)\n",
    "#Defining the array for training and label"
   ]
  },
  {
   "cell_type": "code",
   "execution_count": null,
   "metadata": {},
   "outputs": [],
   "source": [
    "classes = np.unique(train_label)\n",
    "nClasses = len(classes)\n",
    "train_Y_one_hot = to_categorical(train_label)"
   ]
  },
  {
   "cell_type": "code",
   "execution_count": null,
   "metadata": {},
   "outputs": [],
   "source": [
    "batch_size = 2\n",
    "epochs = 25\n",
    "num_classes = 2\n",
    "#Defining batch size and no. of epochs"
   ]
  },
  {
   "cell_type": "code",
   "execution_count": null,
   "metadata": {},
   "outputs": [],
   "source": [
    "#Defining the artitechture of CNN.The number of layers,activation function can be changed.\n",
    "fashion_model = Sequential()\n",
    "fashion_model.add(Conv2D(8, kernel_size=(3, 3),activation='linear',input_shape=(IMG_SIZE,IMG_SIZE,1),padding='same'))\n",
    "fashion_model.add(LeakyReLU(alpha=0.1))#Relu activation function with alpha defined.Can be changed.\n",
    "fashion_model.add(MaxPooling2D((2, 2),padding='same'))#maxpooling the convolved layer.Can be changed.\n",
    "fashion_model.add(Conv2D(16, (3, 3), activation='linear',padding='same'))\n",
    "fashion_model.add(LeakyReLU(alpha=0.1))\n",
    "fashion_model.add(MaxPooling2D(pool_size=(2, 2),padding='same'))\n",
    "fashion_model.add(Conv2D(32, (3, 3), activation='linear',padding='same'))\n",
    "fashion_model.add(LeakyReLU(alpha=0.1))\n",
    "fashion_model.add(MaxPooling2D(pool_size=(2, 2),padding='same'))\n",
    "fashion_model.add(Conv2D(64, (3, 3), activation='linear',padding='same'))\n",
    "fashion_model.add(LeakyReLU(alpha=0.1))\n",
    "fashion_model.add(MaxPooling2D(pool_size=(2, 2),padding='same'))\n",
    "fashion_model.add(Flatten())\n",
    "fashion_model.add(Dense(64, activation='linear'))\n",
    "fashion_model.add(LeakyReLU(alpha=0.1))\n",
    "fashion_model.add(Dropout(0.1))#adding dropout to remove layers with less dominance.\n",
    "fashion_model.add(Dense(num_classes, activation='softmax'))#last layer to decied the binary classification."
   ]
  },
  {
   "cell_type": "code",
   "execution_count": null,
   "metadata": {},
   "outputs": [],
   "source": [
    "#defining otimization criteria of the model.\n",
    "fashion_model.compile(loss=keras.losses.categorical_crossentropy,optimizer=keras.optimizers.Adam(),metrics=['accuracy'])\n",
    "fashion_model.summary()"
   ]
  },
  {
   "cell_type": "code",
   "execution_count": null,
   "metadata": {},
   "outputs": [],
   "source": [
    "fashion_train = fashion_model.fit(train_image, train_label, batch_size=batch_size,epochs=epochs,verbose=1)\n",
    "#final fitting of the model."
   ]
  },
  {
   "cell_type": "code",
   "execution_count": null,
   "metadata": {},
   "outputs": [],
   "source": [
    "#testing the model on a dataset.\n",
    "#path to be provided and testing dataset has to go through the same preprocessing\n",
    "im0 = '' #provide path to test data set\n",
    "image0 = []\n",
    "img0_dirs = [im0]\n",
    "for i , d in enumerate(img0_dirs):\n",
    "    files = os.listdir(d)\n",
    "    for f in files:\n",
    "        img0 = cv2.imread(d + '/'+ f)\n",
    "        #img0 = rgb2gray(img0)\n",
    "        coeffs1 = py.dwt2(img0, 'db3')\n",
    "        LL, (LH, HL, HH) = coeffs1\n",
    "        img0 = HL[:,:,3]\n",
    "        img0 = cv2.resize(img0, (IMG_SIZE, IMG_SIZE))\n",
    "        img0 = img0.flatten().astype(np.float32)/255.0\n",
    "        image0.append(img0)\n",
    "        \n",
    "test_image0 = np.asarray(image0)\n",
    "test_image0 = test_image0.reshape(-1,IMG_SIZE, IMG_SIZE, 1)\n",
    "test_eval = fashion_model.predict(test_image0, batch_size=None, verbose=0, steps=None)\n",
    "print(np.rint(test_eval))"
   ]
  }
 ],
 "metadata": {
  "kernelspec": {
   "display_name": "Python 2",
   "language": "python",
   "name": "python2"
  },
  "language_info": {
   "codemirror_mode": {
    "name": "ipython",
    "version": 2
   },
   "file_extension": ".py",
   "mimetype": "text/x-python",
   "name": "python",
   "nbconvert_exporter": "python",
   "pygments_lexer": "ipython2",
   "version": "2.7.16"
  }
 },
 "nbformat": 4,
 "nbformat_minor": 2
}
